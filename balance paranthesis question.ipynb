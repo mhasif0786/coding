{
 "cells": [
  {
   "cell_type": "code",
   "execution_count": 10,
   "metadata": {},
   "outputs": [],
   "source": [
    "def checkbalancepara(string):\n",
    "    openingbrack=\"({[\"\n",
    "    closingbrack=\"]})\"\n",
    "    matchingbrack={\"(\":\")\",\"{\":\"}\",\"[\":\"]\"}\n",
    "    stack=[]\n",
    "    for char in string:\n",
    "        if char in openingbrack:\n",
    "            stack.append(char)\n",
    "        if char in closingbrack:\n",
    "            if len(stack)==0:\n",
    "                return False\n",
    "            elif stack[-1] in matchingbrack:\n",
    "                stack.pop()\n",
    "    return len(stack)==0\n",
    "            "
   ]
  },
  {
   "cell_type": "code",
   "execution_count": 11,
   "metadata": {},
   "outputs": [
    {
     "name": "stdout",
     "output_type": "stream",
     "text": [
      "False\n"
     ]
    }
   ],
   "source": [
    "\n",
    "string=\")(\"\n",
    "print(checkbalancepara(string))"
   ]
  },
  {
   "cell_type": "code",
   "execution_count": null,
   "metadata": {},
   "outputs": [],
   "source": []
  },
  {
   "cell_type": "code",
   "execution_count": null,
   "metadata": {},
   "outputs": [],
   "source": []
  }
 ],
 "metadata": {
  "kernelspec": {
   "display_name": "Python 3",
   "language": "python",
   "name": "python3"
  },
  "language_info": {
   "codemirror_mode": {
    "name": "ipython",
    "version": 3
   },
   "file_extension": ".py",
   "mimetype": "text/x-python",
   "name": "python",
   "nbconvert_exporter": "python",
   "pygments_lexer": "ipython3",
   "version": "3.7.4"
  }
 },
 "nbformat": 4,
 "nbformat_minor": 2
}
